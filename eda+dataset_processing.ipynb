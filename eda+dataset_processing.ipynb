{
 "cells": [
  {
   "cell_type": "code",
   "execution_count": 1,
   "metadata": {},
   "outputs": [],
   "source": [
    "import numpy as np\n",
    "import pandas as pd"
   ]
  },
  {
   "cell_type": "markdown",
   "metadata": {},
   "source": [
    "## Load and processing"
   ]
  },
  {
   "cell_type": "code",
   "execution_count": 2,
   "metadata": {},
   "outputs": [
    {
     "name": "stderr",
     "output_type": "stream",
     "text": [
      "C:\\Users\\Laptop_user\\AppData\\Local\\Temp\\ipykernel_13944\\2019238741.py:1: DtypeWarning: Columns (3) have mixed types. Specify dtype option on import or set low_memory=False.\n",
      "  df_news = pd.read_csv(\"lenta-ru-news.csv\")\n"
     ]
    },
    {
     "data": {
      "text/html": [
       "<div>\n",
       "<style scoped>\n",
       "    .dataframe tbody tr th:only-of-type {\n",
       "        vertical-align: middle;\n",
       "    }\n",
       "\n",
       "    .dataframe tbody tr th {\n",
       "        vertical-align: top;\n",
       "    }\n",
       "\n",
       "    .dataframe thead th {\n",
       "        text-align: right;\n",
       "    }\n",
       "</style>\n",
       "<table border=\"1\" class=\"dataframe\">\n",
       "  <thead>\n",
       "    <tr style=\"text-align: right;\">\n",
       "      <th></th>\n",
       "      <th>url</th>\n",
       "      <th>title</th>\n",
       "      <th>text</th>\n",
       "      <th>topic</th>\n",
       "      <th>tags</th>\n",
       "      <th>date</th>\n",
       "    </tr>\n",
       "  </thead>\n",
       "  <tbody>\n",
       "    <tr>\n",
       "      <th>0</th>\n",
       "      <td>https://lenta.ru/news/1914/09/16/hungarnn/</td>\n",
       "      <td>1914. Русские войска вступили в пределы Венгрии</td>\n",
       "      <td>Бои у Сопоцкина и Друскеник закончились отступ...</td>\n",
       "      <td>Библиотека</td>\n",
       "      <td>Первая мировая</td>\n",
       "      <td>1914-09-16</td>\n",
       "    </tr>\n",
       "    <tr>\n",
       "      <th>1</th>\n",
       "      <td>https://lenta.ru/news/1914/09/16/lermontov/</td>\n",
       "      <td>1914. Празднование столетия М.Ю. Лермонтова от...</td>\n",
       "      <td>Министерство народного просвещения, в виду про...</td>\n",
       "      <td>Библиотека</td>\n",
       "      <td>Первая мировая</td>\n",
       "      <td>1914-09-16</td>\n",
       "    </tr>\n",
       "    <tr>\n",
       "      <th>2</th>\n",
       "      <td>https://lenta.ru/news/1914/09/17/nesteroff/</td>\n",
       "      <td>1914. Das ist Nesteroff!</td>\n",
       "      <td>Штабс-капитан П. Н. Нестеров на днях, увидев в...</td>\n",
       "      <td>Библиотека</td>\n",
       "      <td>Первая мировая</td>\n",
       "      <td>1914-09-17</td>\n",
       "    </tr>\n",
       "    <tr>\n",
       "      <th>3</th>\n",
       "      <td>https://lenta.ru/news/1914/09/17/bulldogn/</td>\n",
       "      <td>1914. Бульдог-гонец под Льежем</td>\n",
       "      <td>Фотограф-корреспондент Daily Mirror рассказыва...</td>\n",
       "      <td>Библиотека</td>\n",
       "      <td>Первая мировая</td>\n",
       "      <td>1914-09-17</td>\n",
       "    </tr>\n",
       "    <tr>\n",
       "      <th>4</th>\n",
       "      <td>https://lenta.ru/news/1914/09/18/zver/</td>\n",
       "      <td>1914. Под Люблином пойман швабский зверь</td>\n",
       "      <td>Лица, приехавшие в Варшаву из Люблина, передаю...</td>\n",
       "      <td>Библиотека</td>\n",
       "      <td>Первая мировая</td>\n",
       "      <td>1914-09-18</td>\n",
       "    </tr>\n",
       "  </tbody>\n",
       "</table>\n",
       "</div>"
      ],
      "text/plain": [
       "                                           url  \\\n",
       "0   https://lenta.ru/news/1914/09/16/hungarnn/   \n",
       "1  https://lenta.ru/news/1914/09/16/lermontov/   \n",
       "2  https://lenta.ru/news/1914/09/17/nesteroff/   \n",
       "3   https://lenta.ru/news/1914/09/17/bulldogn/   \n",
       "4       https://lenta.ru/news/1914/09/18/zver/   \n",
       "\n",
       "                                               title  \\\n",
       "0  1914. Русские войска вступили в пределы Венгрии     \n",
       "1  1914. Празднование столетия М.Ю. Лермонтова от...   \n",
       "2                           1914. Das ist Nesteroff!   \n",
       "3                    1914. Бульдог-гонец под Льежем    \n",
       "4           1914. Под Люблином пойман швабский зверь   \n",
       "\n",
       "                                                text       topic  \\\n",
       "0  Бои у Сопоцкина и Друскеник закончились отступ...  Библиотека   \n",
       "1  Министерство народного просвещения, в виду про...  Библиотека   \n",
       "2  Штабс-капитан П. Н. Нестеров на днях, увидев в...  Библиотека   \n",
       "3  Фотограф-корреспондент Daily Mirror рассказыва...  Библиотека   \n",
       "4  Лица, приехавшие в Варшаву из Люблина, передаю...  Библиотека   \n",
       "\n",
       "             tags       date  \n",
       "0  Первая мировая 1914-09-16  \n",
       "1  Первая мировая 1914-09-16  \n",
       "2  Первая мировая 1914-09-17  \n",
       "3  Первая мировая 1914-09-17  \n",
       "4  Первая мировая 1914-09-18  "
      ]
     },
     "execution_count": 2,
     "metadata": {},
     "output_type": "execute_result"
    }
   ],
   "source": [
    "df_news = pd.read_csv(\"lenta-ru-news.csv\")\n",
    "df_news[\"date\"] = pd.to_datetime(df_news[\"date\"])\n",
    "df_news.head()"
   ]
  },
  {
   "cell_type": "code",
   "execution_count": null,
   "metadata": {},
   "outputs": [],
   "source": []
  },
  {
   "cell_type": "code",
   "execution_count": null,
   "metadata": {},
   "outputs": [],
   "source": []
  },
  {
   "cell_type": "code",
   "execution_count": 3,
   "metadata": {},
   "outputs": [],
   "source": [
    "MIN_COUNT = len(df_news) * 0.005"
   ]
  },
  {
   "cell_type": "markdown",
   "metadata": {},
   "source": [
    "### Select only if text exists:"
   ]
  },
  {
   "cell_type": "code",
   "execution_count": 4,
   "metadata": {},
   "outputs": [],
   "source": [
    "df_news = df_news[df_news[\"text\"].notna()]"
   ]
  },
  {
   "cell_type": "markdown",
   "metadata": {},
   "source": [
    "### Null percentages and topic filtration:"
   ]
  },
  {
   "cell_type": "code",
   "execution_count": 5,
   "metadata": {},
   "outputs": [
    {
     "data": {
      "text/plain": [
       "7.740864202154887"
      ]
     },
     "execution_count": 5,
     "metadata": {},
     "output_type": "execute_result"
    }
   ],
   "source": [
    "percent_topic_missing = df_news[\"topic\"].isnull().sum() * 100 / len(df_news)\n",
    "percent_topic_missing"
   ]
  },
  {
   "cell_type": "code",
   "execution_count": 6,
   "metadata": {},
   "outputs": [
    {
     "data": {
      "text/plain": [
       "topic\n",
       "Россия               0.217841\n",
       "Мир                  0.185497\n",
       "Экономика            0.107980\n",
       "Спорт                0.087457\n",
       "Культура             0.073042\n",
       "Бывший СССР          0.072507\n",
       "Наука и техника      0.072146\n",
       "Интернет и СМИ       0.060642\n",
       "Из жизни             0.037481\n",
       "Дом                  0.029510\n",
       "Силовые структуры    0.026607\n",
       "Ценности             0.010544\n",
       "Бизнес               0.010046\n",
       "Путешествия          0.008701\n",
       "Name: proportion, dtype: float64"
      ]
     },
     "execution_count": 6,
     "metadata": {},
     "output_type": "execute_result"
    }
   ],
   "source": [
    "topics_to_use = df_news.topic.value_counts()[\n",
    "    df_news.topic.value_counts() > MIN_COUNT\n",
    "].index\n",
    "\n",
    "\n",
    "df_news = df_news[df_news.topic.isin(topics_to_use)]\n",
    "\n",
    "\n",
    "df_news.topic.value_counts(normalize=True)"
   ]
  },
  {
   "cell_type": "code",
   "execution_count": 7,
   "metadata": {},
   "outputs": [
    {
     "data": {
      "text/plain": [
       "<Axes: >"
      ]
     },
     "execution_count": 7,
     "metadata": {},
     "output_type": "execute_result"
    },
    {
     "data": {
      "image/png": "[encoded data removed]",
      "text/plain": [
       "<Figure size 640x480 with 1 Axes>"
      ]
     },
     "metadata": {},
     "output_type": "display_data"
    }
   ],
   "source": [
    "df_news.date.dt.year.hist()"
   ]
  },
  {
   "cell_type": "code",
   "execution_count": 8,
   "metadata": {},
   "outputs": [
    {
     "data": {
      "text/plain": [
       "3.572805726482265"
      ]
     },
     "execution_count": 8,
     "metadata": {},
     "output_type": "execute_result"
    }
   ],
   "source": [
    "percent_tags_missing = df_news[\"tags\"].isnull().sum() * 100 / len(df_news)\n",
    "percent_tags_missing"
   ]
  },
  {
   "cell_type": "code",
   "execution_count": 9,
   "metadata": {},
   "outputs": [
    {
     "data": {
      "text/plain": [
       "tags\n",
       "Все                 452728\n",
       "Политика             33220\n",
       "Общество             27560\n",
       "Украина              17934\n",
       "Происшествия         15972\n",
       "                     ...  \n",
       "Социальная сфера        70\n",
       "Вкусы                   54\n",
       "Фотография              28\n",
       "Страноведение           21\n",
       "Выборы                  11\n",
       "Name: count, Length: 78, dtype: int64"
      ]
     },
     "execution_count": 9,
     "metadata": {},
     "output_type": "execute_result"
    }
   ],
   "source": [
    "df_news[\"tags\"].value_counts()"
   ]
  },
  {
   "cell_type": "code",
   "execution_count": 10,
   "metadata": {},
   "outputs": [
    {
     "data": {
      "text/plain": [
       "0.0"
      ]
     },
     "execution_count": 10,
     "metadata": {},
     "output_type": "execute_result"
    }
   ],
   "source": [
    "percent_missing = df_news[\"text\"].isnull().sum() * 100 / len(df_news)\n",
    "percent_missing"
   ]
  },
  {
   "cell_type": "code",
   "execution_count": 11,
   "metadata": {},
   "outputs": [
    {
     "data": {
      "text/plain": [
       "736508"
      ]
     },
     "execution_count": 11,
     "metadata": {},
     "output_type": "execute_result"
    }
   ],
   "source": [
    "len(df_news)"
   ]
  },
  {
   "cell_type": "code",
   "execution_count": 14,
   "metadata": {},
   "outputs": [
    {
     "data": {
      "text/plain": [
       "'Сегодня днем в столице Греции произошло землетрясение силой 5,9 балла по шкале Рихтера. Согласно данным греческих сейсмологов, эпицентр находился в 20 километрах к северо-западу от Афин. В результате подземных толчков вибрировали здания, некоторые из них покрылись трещинами, во многих местах осыпалась штукатурка. По данным полиции, в северной части Афин рухнул один дом. По радио было передано обращение местных властей к столичным жителям с указанием покинуть жилые помещения в связи с продолжающейся сейсмической активностью. Люди сильно озабочены происходящим, пытаются дозвониться до родственников или добраться на автомобиле туда, где находятся их дети - в школы, детские сады. Люди крайне взволнованы, все вспоминают о недавнем разрушительном землетрясении в соседней Турции. В результате подземных толчков в Афинах вышли из строя станции мобильной телефонной связи.'"
      ]
     },
     "execution_count": 14,
     "metadata": {},
     "output_type": "execute_result"
    }
   ],
   "source": [
    "df_news.iloc[100][\"text\"]"
   ]
  },
  {
   "cell_type": "code",
   "execution_count": 56,
   "metadata": {},
   "outputs": [],
   "source": [
    "df_news = df_news[~df_news[\"text\"].str.contains(\"\\(function\")]"
   ]
  },
  {
   "cell_type": "code",
   "execution_count": 64,
   "metadata": {},
   "outputs": [
    {
     "data": {
      "text/plain": [
       "array(['Немецкие компьютерные эксперты пытаются восстановить информацию, содержащуюся в компьютерах Международного торгового центра, сообщает Reuters. Дело в том, что за считанные минуты до падения небоскребов была зафиксирована необычайно высокая активность финансовых переводов, идущих через компьютеры WTC. Специалисты немецкой фирмы Convar пытаются восстановить содержимое жестких дисков компьютеров, найденных в развалинах WTC, в надежде, что эти данные помогут ответить на вопрос, кто и куда переводил эти деньги. \"Мы подозреваем, что кого-то предупредили о готовящемся теракте и он использовал эту информацию  для того, чтобы осуществить несколько незаконных финансовых операций, надеясь, что в результате всего этого хаоса его деятельность, по крайней мере, не сразу будет замечена\", - считает директор фирмы Петер Хеншель (Peter Henschel). \"Разумеется, всегда остается возможность того, что существовала какая-то причина, из-за которой объемы финансовых операций так возросли, - считает он. - Может оказаться, например, что во вторник утром американцы устроили набег в магазины. Однако нам известно о большом количестве крупных переводов, объяснить которые пока что не удается\". Convar не является единственной компанией, работающей с 32 компьютерами, найденными в развалинах WTC, однако, по информации Хеншеля, именно им досталась большая часть работы благодаря уникальной технологии лазерного сканирования, разработанной специалистами компании. Эта технология позволяет восстанавливать содержимое даже очень сильно поврежденных жестких дисков. Стоимость восстановления одного жесткого диска составляет от 20 до 30 тысяч долларов. Хеншель отказался назвать, кто именно является заказчиком этой работы, сообщив лишь, что вся информация, получаемая с жестких дисков, немедленно отправляется в Нью-Йорк.',\n",
       "       'В пятницу мэру города Барранкабермеха (Barrancabermeja) на северо-западе Колумбии предъявлено обвинение в организации заказного убийства журналиста местной радиостанции, сообщает агентство Associated Press. Генеральный прокурор уже выдал ордер на арест Хулио Сезара Ардильи (Julio Cesar Ardila). Вместе с ним задержаны еще трое чиновников городской администрации которых подозревают в соучастии в преступлении. Как предполагается, само убийство выполнено тремя повстанцами из блока Центральный Боливар (Central Bolivar Bloc). Тело радиожурналиста Хуана Эметерио Риваса (Juan Emeterio Rivas) было обнаружено в окрестностях города в апреле 2003 года. Установлено, что он скончался в результате множественных пулевых ранений. В своих репортажах Ривас регулярно обвинял Ардилью в коррупции и преступных связях с незаконными вооруженными формированиями. Радиостанция, на которую он работал, была закрыта в начале 2003 года. Колумбия остается одной из самых опасных для работы журналистов стран, добавляет агентство. За последние 14 лет там убиты более 114 представителей средств массовой информации.',\n",
       "       'Основатель компании Microsoft Билл Гейтс продолжает оставаться самым богатым человеком в мире. Создателю шведской мебельной компании IKEA Ингвару Кампраду (Ingvar Kamprad) не удалось отобрать у него этот титул, сообщает BBC News. Напомним, что в воскресенье агентство Reuters сообщило со ссылкой на шведский деловой еженедельник Veckans Affarer, что состояние Ингвара Кампрада оценивается в 400 миллиардов шведских крон (53 миллиарда долларов). Таким образом, по подсчетам Veckans Affarer, основатель IKEA обогнал по доходам Билла Гейтса, состояние которого, журнал Forbes оценивает в 47 миллиардов долларов. Кампрад с состоянием в 18,5 миллиарда долларов, по данным Forbes, занимает 13-ю строчку в списке самых богатых людей планеты. Однако в понедельник представители IKEA сообщили, что Кампраду мебельная компания принадлежит не полностью - в 1982 году он пожертвовал часть своих активов голландскому фонду Dutch Stichting INGKA Foundation. Кроме того, для подсчета состояния Кампрада журналисты Veckans Affarer воспользовались неправильной, с точки зрения руководства компании, методикой. \"Оценивая стоимость всей компании, включая все 186 магазинов IKEA в 31 стране мира, было бы абсолютно ошибочно заявлять, что все это принадлежит лично Кампраду. Это совершенно неверно\", - заявила пресс-секретарь компании Марианне Барнер (Marianne Barner). В то же время, редакция Veckans Affarer продолжает отстаивать свою точку зрения. По мнению еженедельника, семья Кампрада передала часть акций различным фондам лишь формально, чтобы избежать выплат высоких налогов. На самом деле основатель IKEA и его сыновья продолжают оставаться единственными владельцами IKEA.',\n",
       "       'В Лос-Анджелесе предъявлены обвинения лидеру исламской экстремистской группировки и трем его сообщникам. Они обвиняются в планировании нападений на местные военные объекты, синагоги, консульство Израиля и авиакомпанию El Al airlines. Как сообщает Reuters, о планах экстремистов стало известно после того, как двое из них были задержаны при ограблении автозаправочной станции. Вырученные деньги налетчики собирались потратить на подготовку терактов. При обыске у них было обнаружено огнестрельное оружие с глушителями, взрывные устройства. По данных правоохранительных органов, на момент задержания исламисты были уже готовы к тому, чтобы нанести удар. По данным полиции, нападения на синагоги и военные объекты в Лос-Анджелесе должны были быть совершены в октябре и совпасть по времени с еврейскими праздниками. При этом следователи отказываются сообщать точные даты планируемых терактов. \"Если бы подсудимым удалось осуществить задуманное, то это могло бы стоить жизни большому числу американцев\", - говорит генеральный прокурор США Альберто Гонзалес (Alberto Gonzales). Организатором терактов следствие называет 29-летнего жителя Лос-Анджелеса Кевина Джеймса. Отбывая срок за попытку ограбления и незаконное хранение оружия, в конце 1990-х годов он создал радикальную группировку \"Джамийят Уль-Ислам Ис-Сахих\" (Jam\\'iyyat Ul-Islam Is-Saheeh). Джеймс распространил среди заключенных четыре главных заповеди своего учения, основанного на Исламе. В них он призывал мстить Соединенным Штатам и Израилю, а также разрешал убийство неверующих. В ноябре 2004 года Джеймсу удалось найти единомышленника. Им стал 25-летний сосед по камере Левар Вашингтон (Levar Washington). Позднее он освободился. Уже на свободе Вашингтону удается заразить экстримистскими идеями 21-летнего Грегори Паттерсона (Gregory Patterson) и Хаммада Самана (Hammad Samana), того же возраста. Прежде чем их поймали, молодые люди успели ограбить 11 автозаправочных станций на юге Калифорнии. Всем им, а также Джеймсу грозит пожизненное заключение.',\n",
       "       'Губернатор Чукотки Роман Абрамович поднялся до 11 места в ежегодном мировом рейтинге миллиардеров, составленном журналом Forbes, сообщает AFP. Состояние Абрамовича, по данным Forbes, оценивается в 18,2 миллиарда долларов. По сравнению с прошлым годом состояние Абрамовича увеличилось на 4,9 миллиарда долларов, что позволило владельцу футбольного клуба \"Челси\" переместиться в списке самых богатых людей планеты сразу на 10 позиций вверх. Всего в новом списке Forbes оказалось 793 человека, чьи состояния оцениваются как минимум в один миллиард долларов, среди них 33 россиянина - на 7 больше, чем в 2005 году. Кроме губернатора Чукотки в первую сотню списка Forbes 2006 года вошли: Вагит Алекперов (\"ЛУКОЙЛ\") - 11 миллиардов долларов (37-е место), Владимир Лисин (Новолипецкий металлургический комбинат) - 10,7 миллиарда долларов (41-е место), Виктор Вексельберг (\"Ренова\") - 10 миллиардов долларов (44-е место), Михаил Фридман (\"Альфа-Групп\", ТНК-BP) - 9,7 миллиарда долларов (50-е место). Единственной женщиной, входящей в число 33 российских миллиардеров, по версии Forbes, стала супруга мэра Москвы владелица \"Интеко\" Елена Батурина. В списке самых богатых людей мира она с состоянием в 2,3 миллиарда долларов занимает 335 место. Окончательно покинул список самых богатых людей мира экс-глава \"ЮКОСа\" - заключенный Краснокаменской колонии общего режима в Читинской области - Михаил Ходорковский. Несколько лет назад Forbes оценивал состояние Ходорковского в 15 миллиардов долларов, однако по состоянию на март 2006 года, по данным журнала, активы, принадлежащие экс-главе \"ЮКОСа\", стоят менее 500 миллионов долларов. Большинство самых богатых россиян проживают в Москве - 25 человек. По числу миллиардеров столица России занимает второе место в мире, Москва отстает только от Нью-Йорка, где живут 40 участников списка Forbes, и опережает Лондон, где живут 23 самых богатых человека планеты. Лидером списка миллиардеров Forbes 12 год подряд остается основатель компании Microsoft Билл Гейтс. Его состояние Forbes оценил в 50 миллиардов долларов, на 3,5 миллиарда больше, чем в начале 2005 года. Уоррен Баффет, потерявший за год 2 миллиарда долларов, сумел сохранить вторую позицию в рейтинге миллиардеров, его состояние Forbes оценил в 42 миллиарда долларов. На третьем месте в списке Fordes 2006 года оказался телекоммуникационный магнат из Мексики Карлос Слим Хелу (Carlos Slim Helu), поднявшийся на одну позицию с состоянием в 30 миллиардов долларов. На четвертом - основатель IKEA Ингвар Кампрад (Ingvar Kamprad), переместившийся на две позиции вверх. Forbes оценил Кампрада в 28 миллиардов долларов. Индийский сталелитейный магнат Лакшми Миттал по сравнению с прошлым годом потерял 1,5 миллиарда долларов и с состоянием в 23,5 миллиарда долларов замыкает пятерку самых богатых людей планеты. Общее состояние 793 самых богатых людей планеты, Forbes оценивает в 2,6 триллиона долларов - на 400 миллиардов больше, чем в 2005 году. Число миллиардеров в мире в 2006 году выросло на 102 человека. Покинули список самых богатых людей за прошедший год 39 человек, причем 11 из них - по причине смерти.',\n",
       "       'В северном районе Багдада вечером 15 мая была обстреляна машина иранского посольства, сообщает телеканал CNN. По данным AFP, в машине находись пятеро человек, двое сотрудников посольства, их охранники и водитель. CNN со своей стороны, ссылаясь на данные из министерства внутренних дел Ирака, сообщает, что в автомобиле ехали шестеро - пять сотрудников посольства и шофер. По информации иранского агентства FARS, они намеревались посетить могилы двух духовных лидеров шиитов. В машину попало 16 пуль. Трое сотрудников посольства: Абольфазль Заввар Мохаммади (Abolfazl Zavvar Mohammadi), Акбар Гапземи (Akbar Ghasemi) и Маджид Джабери (Majid Jaberi) получили ранения и были доставлены в больницу. Джабери находится в критическом состоянии. Иранское государственное информационное агентство IRNA возложило вину за обстрел на США. \"Американские агенты осуществили террористическое нападение на  сотрудников иранского посольства\", - цитирует CNN официальное обращение, размещенное на сайте IRNA. Со своей стороны представитель командования коалиционными войсками в Багдаде (Baghdad Operations Command) заявил, что находившиеся во внедорожнике иранского посольства люди обстреляли патруль иракской армии, который вынужден был открыть ответный огонь.',\n",
       "       'Бизнесмены из России заняли 12 мест в рейтинге 25 самых богатых европейцев, составленным журналом Forbes. Тем не менее, первое место в списке продолжает удерживать швед Ингвар Кампрад (Ingvar Kamprad), основавший сеть мебельных магазинов IKEA. Его состояние оценивается в 31 миллиард долларов. После Кампрада в рейтинге следует российский бизнесмен Олег Дерипаска с состоянием в 28 миллиардов долларов. По сравнению с майским рейтингом Forbes, когда журнал считал всех миллиардеров мира, а не только европейцев, состояние Кампрада и Дерипаски не изменились. Третье место в списке занял самый богатый житель Германии - Карл Альбрехт (Karl Albrecht). Он заработал 27 миллиардов долларов на сети магазинов Aldi. Замыкают пятерку миллиардеров француз Бернар Арно, владелец холдинга LVMH, в который, в частности, входит Christian Dior, и россиянин Роман Абрамович. Состояние последнего оценивается в 23,5 миллиарда долларов. Список других россиян вошедших в список, выглядит таким образом: владелец \"Северстали\" Алексей Мордашов (21,2 миллиарда долларов, 8-е место), основной акционер \"Альфа-групп\" Михаил Фридман (20,8 миллиарда, 9-е место), металлурги Владимир Лисин (20,3 миллиарда, 10-е место), Михаил Прохоров (19,5 миллиарда, 12-е место) и Владимир Потанин (19,3 миллиарда, 13-е место), а также Сулейман Керимов (17,5 миллиарда, 16-е место), Герман Хан (13,9 миллиарда, 20-е место), Вагит Алекперов (13 миллиардов, 22-е место), Дмитрий Рыболовлев (12,8 миллиарда, 24-е место) и Искандер Махмудов (11,9 миллиарда, 25-е место). Всего в Европе проживают 298 миллиардеров, которые владеют состоянием в 1,4 триллиона долларов. Любопытно, что в русской версии рейтинга Forbes говорилось, что в 2007 году в России впервые стало больше ста миллиардеров.',\n",
       "       'В российских кинотеатрах сети IMAX не покажут \"Темного рыцаря\" (\"The Dark Knight\"), новый фильм студии Warner Bros. о Бэтмане. Об этом \"Ленте.Ру\" сообщили в компании \"Каро Премьер\", прокатчике фильма в России. В компании \"Киносфера\", которая управляет кинотеатром Nescafe IMAX в Москве, отметили, что копии фильма для кинотеатров IMAX должен был закупать прокатчик. \"Темный рыцарь\" - первый фильм, когда в производстве будут задействованы камеры формата IMAX, которые снимают на 70-миллиметровую пленку. Обычно съемка производится на 35-миллиметровую пленку с последующим сканированием ее и переводом в подходящий для проекторов IMAX формат. Всего режиссер Кристофер Нолан снял шесть эпизодов \"Темного рыцаря\", являющегося сиквелом картины \"Бэтман. Начало\", при помощи камер IMAX. Сейчас в России действуют три кинотеатра сети IMAX: Nescafe IMAX в Москве, Suvar IMAX в Казани и Coca-Cola IMAX в Санкт-Петербурге. Новый фильм Кристофера Нолана \"Темный рыцарь\", премьера которого в США прошла 18 июля, поставил рекорд по показам в кинотеатрах IMAX. В США картину показали в 94 кинотеатрах сети, где \"Темный рыцарь\" собрал 6,2 миллиона долларов за три дня проката. Всего фильм Нолана заработал в первый уикэнд проката рекордные 158,4 миллиона долларов. Канадская  компания IMAX основана в 1967 году. Сеть кинотеатров IMAX насчитывает более 280 кинотеатров в 40 странах мира.',\n",
       "       'Шведская компания IKEA, крупнейшая в мире торговая сеть по продаже мебели и товаров для дома, сменила генерального директора, сообщает Reuters. С 1 сентября 2009 года новым генеральным директором компании станет Микаель Ольссон (Mikael Ohlsson), который сменит на этом посту Андерса Дальвига (Anders Dahlvig). Ольссон начал свою карьеру в IKEA 30 лет назад продавцом ковров в городе Линчепинг на севере Швеции. На протяжении последних нескольких лет он был руководителем южноевропейского и североамериканского подразделения шведской компании. IKEA была основана в 1943 году Ингваром Кампрадом (Ingvar Kamprad). Сейчас в компании работают около 128 тысяч человек. IKEA принадлежит 262 магазина в 24 странах мира, включая Россию. Продажи компании по итогам 2008 года составили 28 миллиардов долларов.',\n",
       "       'Шведская компания IKEA, крупнейшая в мире торговая сеть по продаже мебели и товаров для дома, уволила в 2009 году пять тысяч сотрудников, чтобы снизить издержки в условиях падения спроса на ее продукцию. Об этом сообщает AFP. По словам основателя компании Ингвара Кампрада (Ingvar Kamprad), IKEA необходимо провести дальнейшее сокращение численности штата, особенно в подразделениях, занимающихся производством и логистикой. По данным 83-летнего Кампрада, продажи IKEA с начала 2009 года снизились на семь процентов по сравнению с показателем, заложенным в бюджет компании. Тем не менее, несмотря на массовые увольнения, шведский ритейлер намерен нанять несколько тысяч человек для работы в 14 новых магазинах, открытие которых намечено на текущий год. В конце апреля сообщалось, что IKEA сменила генерального директора. С 1 сентября 2009 года новым генеральным директором компании станет Микаель Ольссон (Mikael Ohlsson), который сменит на этом посту Андерса Дальвига (Anders Dahlvig). На протяжении последних нескольких лет Ольссон руководил южноевропейским и североамериканским подразделениями IKEA. IKEA была основана в 1943 году. Сейчас в компании работают около 120 тысяч человек. IKEA принадлежит 262 магазина в 24 странах мира, включая Россию. Согласно прогнозу компании, в текущем финансовом году, заканчивающемся 31 августа 2009 года, продажи компании могут составить 30,1 миллиарда долларов.',\n",
       "       'Суд округа Санта-Ана, Калифорния, вынес приговор последнему из четырех участников экстремистской исламистской группировки \"Джамийят Уль-Ислам Ис-Сахих\" (Jam\\'iyyat Ul-Islam Is-Saheeh). Исламисты планировали серию терактов на территории США, сообщает Associated Press.\\r Хаммад Самана (Hammad Samana) признан виновным и приговорен к 70 месяцам заключения. Суд учел, что Самана играл в группировке незначительную роль и не принимал участие в ограблениях и других насильственных действиях. Ему было поручено изучение объектов будущих атак.\\r Экстремистскую группировку \"Джамийят Уль-Ислам Ис-Сахих\" основал  житель Лос-Анджелеса Кевин Джеймс (Kevin James) во время отбывания срока за ограбление. Его единомышленником стал сокамерник Левар Вашингтон (Levar Washington). Выйдя на свободу Вашингтон завербовал еще двоих членов - Грегори Паттерсона (Gregory Patterson) и Хаммада Самана.\\r Заговорщики планировали нападения на военные объекты, синагоги, консульство Израиля и авиакомпанию El Al Airlines. Для того, чтобы добыть деньги на организацию терактов, Вашингтон и Паттерсон грабили заправочные станции. Всего злоумышленники успели совершить 11 налетов. Во время одного из ограблений их задержала полиция. Полицейские отметили, что хотя ни один из задуманных терактов не был осуществлен, группировка уже была полностью готова к их проведению.\\r В 2007 году Вашингтон был приговорен к 22 годам заключения, а позже его осудили за грабежи и дали еще 22 года тюрьмы. Паттерсон получил 12 лет и семь месяцев тюрьмы, а Джеймса осудили на 16 лет заключения.',\n",
       "       'Президент Венесуэлы Уго Чавес заявил, что у него \"нет проблем\" с тем, чтобы национализировать банковский сектор страны, и предупредил, что любой частный банк, который нарушит законы Венесуэлы, будет конфискован властями. Об этом сообщает Bloomberg. Агентство отмечает, что 29 ноября в своей телепередаче \"Алло, президент\" Чавес выразил недовольство частными банками, которые отказываются расширять кредитование развивающихся производств, а некоторые не соблюдают законодательство. 20 ноября текущего года были конфискованы четыре венесуэльских банка - Banco Confederado SA, Banco Canarias de Venezuela CA, Banpro Banco Universal и Bolivar Banco CA, отмечает Bloomberg. Их владелец, Рикардо Фернандес Барруэко (Ricardo Fernandez Barrueco), был арестован. Точная причина его ареста пока не объявлена. Сейчас государство в Венесуэле контролирует 21 процент банковского сектора. В июле текущего года венесуэльские власти также приобрели у  испанской финансовой группы Santander третий по величине банк страны - Banco de Venezuela - за 1,05 миллиарда долларов. Из иностранных банков представительства в Венесуэле имеют также американский Citigroup, голландский ABN Amro Holding NV и испанский Banco Bilbao Vizcaya Argentaria SA. За последние несколько лет Чавес провел национализацию нескольких стратегических отраслей экономики, в частности, нефтяной, сталелитейной и цементной, а также телекоммуникационной. По мнению венесуэльского президента, национализация помогает развитию крупнейших экономических активов, а также заставляет их соблюдать все социальные обязательства.',\n",
       "       'Правительство Венесуэлы объявило об учреждении нового государственного банка. Об этом 6 декабря сообщает Agence France-Presse. Новый банк будет создан путем слияния четырех ранее национализированных правительством коммерческих банков - Confederado, Central, Bolivar и Banco Real. Как заявил в эфире телепрограммы \"Алло, президент!\" глава государства Уго Чавес, новый банк получит название Banco Bicentenario (Банк \"Двухсотлетие\") в честь грядущего 200-летия независимости Венесуэлы от Испании. В создании нового финансового учреждения также примет участие другой государственный банк - Banfoandes. Как сообщалось ранее, все четыре банка были закрыты и национализированы из-за якобы найденных в их работе нарушений. Кроме них, по этой же причины были закрыты еще два банка, Banco Canarias и BanPro, которые, однако, не войдут в состав нового государственного банка. С 2007 года правительство Венесуэлы национализировало целый ряд предприятий, ранее находившихся под контролем коммерческих компаний. В основном, эти меры коснулись компаний, работающих в сфере электрификации, цементного производства, нефтяной и сталелитейной промышленности, а также банковского сектора. В настоящее время, более 70 процентов банковского сектора страны находится под контролем частных предпринимателей. Однако в июле 2009 года государству удалось значительно усилить свое влияние в этой отрасли, выкупив  у испанской финансовой группы Santander третий по величине банк страны - Banco de Venezuela. По словам Чавеса, цель вмешательства государства в финансовый сектор состоит в том, чтобы помешать частным банкам \"чрезмерно спекулировать\" средствами.',\n",
       "       'Президент Венесуэлы Уго Чавес принял решение о девальвации национальной валюты боливара. Об этом 9 января сообщает Agence France-Presse. Вводится два обменных курса: первый, предназначенный для часто импортируемых товаров, от автомобилей до строительных материалов, составит 4,3 боливара за доллар вместо прежних 2,15. Второй обменный курс для стратегически важных товаров, таких как продовольствие или медицинское оборудование составит 2,6 боливара за доллар. По словам Чавеса, в первую очередь, девальвация валюты призвана улучшить положение в сфере здравоохранения, импорта продуктов питания, машиностроения, издательского дела, а также технологий. Более высокий курс боливара будет применяться в операциях, связанных с автомобилестроением, телекоммуникациями, табачным бизнесом, нефтеперерабатывающей отраслью, а также электронными технологиями. Девальвация национальной валюты призвана помочь экономике страны выбраться из рецессии, в которой она оказалась в 2009 году. В то же время, разница между реальным и официальным курсом боливара все еще велика - реальный курс валюты Венесуэлы превышает шесть боливаров за доллар. В целом, во втором квартале 2009 года ВВП Венесуэлы впервые за пять лет сократился на 2,4 процента, а уровень инфляции составил 25 процентов. Причиной экономического спада в стране стало резкое снижение цен на нефть. В рамках мер стабилизации экономического положения, власти Венесуэлы стараются увеличить долю государства в стратегически важных сферах экономики. С 2007 года правительство Венесуэлы национализировало целый ряд предприятий, ранее находившихся под контролем коммерческих структур. В основном, эти меры коснулись компаний, работающих в сфере электрификации, цементного производства, нефтяной и сталелитейной промышленности, а также банковского сектора. В конце 2009 года Уго Чавес объявил о создании в стране нового государственного банка, учрежденного взамен четырех ранее национализированных коммерческих банков - Confederado, Central, Bolivar и Banco Real. При этом президент заявил, что таким образом намерен ужесточить контроль за \"финансовыми спекулянтами\".',\n",
       "       'Президент Венесуэлы Уго Чавес национализировал еще три банка в дополнение к четырем финансовым организациям, перешедшим под контроль государства в декабре 2009 года. Об этом сообщает AFP. 18 января были национализированы кредитные учреждения InverUnion Banco Comercial, Banco Del Sol, а также Mi Casa. По данным финансовых регуляторов Венесуэлы, причиной такого решения послужили \"серьезные административные и управленческие сложности\", с которыми столкнулись указанные организации. В конце прошлого года власти Венесуэлы уже национализировали, а впоследствии закрыли четыре банка - Confederado, Central, Bolivar и Banco Real. Позднее стало известно, что на их основе был учрежден новый государственный банк - Banco Bicentenario (Банк \"Двухсотлетие\"), названный в честь грядущего 200-летия независимости Венесуэлы от Испании. В венесуэльском правительстве настаивают, что банковская система страны находится в устойчивом положении, и отмечают, что клиенты банков ни в коем случае не потеряют свои средства. В середине декабря власти приняли закон, предусматривающий увеличение страховки по депозитам с 10 до 30 тысяч боливаров (с 4,6 до 13,8 тысячи долларов США). С 2007 года в Венесуэле под контроль государства перешли ряд крупных предприятий, ранее принадлежавших коммерческим компаниям. Национализация коснулась компаний, работающих в сфере электрификации, цементного производства, нефтяной и сталелитейной промышленности. По мнению Чавеса, данная мера помогает развитию крупнейших экономических активов, а также заставляет их владельцев соблюдать все социальные обязательства. Сейчас власти Венесуэлы контролируют около 25 процентов банковского сектора страны. В конце прошлого года этот показатель составлял около 21 процента.',\n",
       "       'Основатель IKEA Ингвар Кампрад (Ingvar Kamprad) проходил в документах службы госбезопасности Швеции во время Второй мировой войны как активный нацист. Об этом сообщает Stockholm News. Новые факты биографии Кампрада, о связи которого со шведскими ультраправыми было известно и раньше, опубликовала в своей книге шведский журналист Элизабет Осбринк (Elisabeth Aasbrink). Как удалось выяснить, служба госбезопасности Швеции завела на Кампрада личное дело в 1943 году, когда ему было 17 лет. В деле говорилось о том, что он привлекает в ряды шведских нацистов новых членов. Кроме того, Осбринк, как сообщает The Local, пишет, что Кампрад поддерживал контакты с одним из лидеров шведских ультраправых Пером Энгдалом (Per Engdahl) и после войны. О том, что Кампрад испытывал симпатии к ультраправым, стало широко известно в 1990-е годы. Сам предприниматель связывал свои воззрения с подростковой путаницей в голове и называл их несерьезными. Во время Второй мировой войны Швеция сохраняла нейтралитет, однако, как и повсюду в Европе в то время, в стране было немало людей, разделявших нацистскую идеологию.',\n",
       "       'Основатель сети магазинов IKEA Ингвар Кампрад (Ingvar Kamprad) более чем в два раза увеличил сумму пожертвований на благотворительность после того, как в СМИ стала широко обсуждаться информация о его нацистском прошлом. Об этом пишет газета The Daily Telegraph. По словам представителя Кампрада Пера Хеггенеса (Per Heggenes), ежегодная сумма пожертвований со стороны фонда 85-летнего бизнесмена Ikea Foundation составит миллиард крон (более 129 миллионов долларов). Из этой суммы чуть меньше половины в течение трех лет будет направлено в лагерь беженцев Dadaab в Кении, а остальное разделят фонды ЮНИСЕФ, Save the Children, Программа развития ООН (UNDP) и Управление верховного комиссара ООН по делам беженцев (UNHCR). В конце августа 2011 года шведская журналистка Элизабет Осбринк (Elisabeth Aasbrink) опубликовала книгу, в которой привела данные о том, что Кампрад во время Второй мировой войны являлся членом партии шведских нацистов -  Svensk Socialistisk Samling (SSS). Кроме того, Осбринк выяснила, что Кампрад, которому тогда было 17 лет, вербовал новых участников в SSS. О связях Кампрада со шведскими ультраправыми стало известно еще в 1990-е годы. Сам бизнесмен называл свои воззрения в подростковом возрасте несерьезными.',\n",
       "       'Астрономы Европейской южной обсерватории получили фотографии туманности Омега в высоком разрешении. Снимки и их описание доступны на сайте обсерватории. Ученые называют фото самым четким изображением туманности из существующих. Туманность (известная также как туманность Лебедь и туманность Подкова) располагается на расстоянии 5-6 тысяч световых лет от Земли в созвездии Стрелец. Она представляет собой облако горячей плазмы и газа, преимущественно ионизированного водорода, которое является зоной активного звездообразования. Новые снимки были сделаны при помощи спектрографа FORS, установленного на телескопе VLT. Изображение было скомпоновано из нескольких снимков, сделанных в оптическом диапазоне. Разными цветами, соответственно, представлены снимки в разных диапазонах. VLT представляет собой систему из восьми телескопов - четырех 8,2-метровых основных и четырех 1,8-метровых вспомогательных. Основные инструменты имеют собственные имена - Анту, Куйен, Мелипал и Йепун, что на языке индейцев мапуче означает \"Солнце\", \"Луна\", \"Южный крест\" и \"Венера\". Массив располагается в пустыне Атакама в Чили на высоте более 2,6 километра над уровнем моря и относится к обсерватории Панараль. На основе полученных снимков ученые сделали небольшое видео \"пролета\" через туманность. Loading player...var sdfile = \\'http://www.eso.org/public/archives/videos/medium_flash/eso1201a.flv\\';var imagefile = \\'http://www.eso.org/public/archives/videos/videoframe/eso1201a.jpg\\';var flashsrc = \\'http://www.eso.org/public/archives/djangoplicity/shadowbox3/libraries/mediaplayer5/player.swf\\';var sharelink = \\'http://www.eso.org/public/videos/eso1201a/\\';var sharecode = \\'\\';var gaid = \\'UA-1965004-1\\';var ipadfile = \\'http://www.eso.org/public/archives/videos/medium_podcast/eso1201a.m4v\\';var mobilefile = \\'http://www.eso.org/public/archives/videos/medium_podcast/eso1201a.m4v\\';var hdfile = \\'http://www.eso.org/public/archives/videos/hd_and_apple/eso1201a.m4v\\';;',\n",
       "       'Сержант американской армии арестован по подозрению в том, что намеревался стать наемным убийцей мексиканского наркокартеля \"Зетас\" (Zetas). Об этом сообщает Associated Press. 28-летний Самуэль Уокер (Samuel Walker) был арестован в субботу, 24 марта, в Ларедо (Техас). Вместе с ним на основании тех же подозрений арестован бывший лейтенант, 29-летний Кевин Корли (Kevin Corley), который был уволен из Сухопутных сил США 13 марта (обстоятельства увольнения не уточняются). С ними был арестован также некто Шавар Дэвис (Shavar Davis). Двоюродный брат Корли при задержании был убит. Операцию проводило Управление по борьбе с наркотиками (DEA). По этому делу в Техасе и Южной Каролине арестовали еще четырех человек. В действительности Уокер и Корли встречались не с представителями наркокартеля, а с федеральными агентами, действовавшими под прикрытием. В ходе этих встреч подозреваемые согласились расправиться с членами конкурирующего наркокартеля в обмен на 50 тысяч долларов и наркотики. Кроме того, они должны были вернуть похищенный конкурентами кокаин. Как утверждается, Корли также продал агентам оружие, бронежилет (предположительно, украденный у другого солдата), военные учебные пособия и предложил осуществить военную подготовку членов наркокартеля. Где теперь содержат подозреваемых, неясно.',\n",
       "       'Основатель испанской компании Inditex (объединяет бренды Zara, Oysho, Massimo Dutti, Bershka, Pull and Bear, Zara Home, Stradivarius и Uterque) Амансио Ортега (Amancio Ortega) стал самым богатым европейцем. Об этом сообщает агентство Bloomberg, ежедневно пересчитывающее состояния двадцати самых богатых людей планеты. В текущем рейтинге от Bloomberg Ортега занимает четвертое место с капиталом в 39,5 миллиарда долларов. Для сравнения, предыдущий лидер списка - основатель шведской IKEA Ингвар Кампрад (Ingvar Kamprad) располагает состоянием в 37,2 миллиарда долларов, а владелец Moet Hennessy Louis Vuitton Бернар Арно (Bernard Arnault) - в 22,7 миллиарда. В первой тройке самых богатых бизнесменов - по-прежнему Карлос Слим, Билл Гейтс и Уоррен Баффет. Как отмечает Bloomberg, состояние Ортеги выросло за последний день на 3,8 миллиарда долларов даже несмотря на долговой кризис еврозоны, из-за которого стабильность испанской экономики оказалась под угрозой. За счет того, что Inditex сосредоточился на бизнесе в развивающихся странах и снизил зависимость от испанского рынка, владельцу брендов Zara и Stradivarius удалось за первый квартал текущего года нарастить прибыль на 30 процентов до 432 миллионов евро. Inditex была образована в 1975 году. Сейчас под управлением корпорации работает более 5,6 тысячи магазинов в 84 странах.',\n",
       "       'Крупнейшая в мире сеть по торговле мебелью и товарами для дома IKEA продала собственный бренд за 75 миллиардов шведских крон (11,2 миллиарда долларов). Об этом сообщает The Local. Новым владельцем бренда стала одна из дочерних компаний IKEA - зарегистрированная в Нидерландах Ikea Systems. До этого торговая марка принадлежала фирме Interogo, подконтрольной основателю IKEA Ингвару Кампраду (Ingvar Kamprad) и зарегистрированной в Лихтенштейне. Как уточняет Agence France-Presse, сделка по продаже бренда состоялась 1 января 2012 года, однако известно о ней стало только сейчас. В IKEA пояснили, что транзакция направлена на упрощение структуры компании. Как отмечает The Local, бренд IKEA занимает 89-е место в рейтинге ста самых дорогих мировых брендов, однако не является самым ценным среди шведских компаний. Его опережает бренд шведской сети универмагов Hennes and Mauritz (H&M), который оценивается примерно в 125 миллиардов крон и занимает в сотне самых дорогих мировых брендов 58-ю строчку. Сеть IKEA была основана в 1943 году. Сейчас под управлением сети находятся более 300 магазинов в 41 стране. На российский рынок компания вышла в 2000 году.',\n",
       "       'Основатель крупнейшей в мире сети по торговле мебелью IKEA Ингвар Кампрад (Ingvar Kamprad) передал управление компанией своим трем сыновьям. Об этом сообщает шведское издание Expressen со ссылкой на представителя IKEA. По его словам, Кампрад-старший больше не будет принимать участие в управлении торговой сетью, он также постарается не давать советов и не высказывать сыновьям своей точки зрения по вопросам менеджмента. Издание отмечает, что решение об отставке Ингвар Кампрад принял из-за своего преклонного возраста: ему исполнилось уже 86 лет. Накануне сами сыновья рассказали о переходе к ним контроля над компанией в одном из корпоративных изданий IKEA. До этого трое сыновей Ингвара Кампрада Петер (Peter), Юнас (Jonas) и Маттиас (Mathias) практически не высказывались в прессе. В своем интервью наследники Кампрада-старшего рассказали, что их участие в управлении IKEA редко афишировалось, и что они постепенно приобретали необходимые навыки. 48-летний Петер, которого пресса называет \"главным экономистом семьи\", будет руководить структурой IKEA - многопрофильной компанией Ikano, управляющей розничным бизнесом торговой сети, недвижимостью, финансовыми, страховыми и другими активами. Юнас (ему скоро исполнится 46 лет), которого газеты называют \"креативным дизайнером и создателем продуктов\", возглавит еще одну структуру IKEA - Ingka Holding. Младший сын Маттиас (43 года) упоминается в СМИ как \"предприниматель и главный создатель новых идей\", он сосредоточится на улучшении бренда IKEA. Ингвар Кампрад основал IKEA в 1943 году. В настоящее время сеть объединяет более 300 магазинов в 41 стране, в том числе и в России. В июне швейцарский журнал Bilan оценивал состояние основателя IKEA в 37,5 миллиарда долларов, называя его самым богатым человеком Европы.',\n",
       "       'Крупнейшая сеть по торговле мебелью в мире IKEA опровергла информацию о выходе своего основателя Ингвара Кампрада (Ingvar Kamprad) на пенсию. Об этом сообщает Agence France-Presse со ссылкой на представителя компании Ильву Магнуссон (Ylva Magnusson). По ее словам, журналисты сделали неправильные выводы из интервью сыновей Кампрада. О том, что Кампрад-старший покинет IKEA, 17 сентября сообщило шведское издание Expressen. Материал газеты был основан на интервью, которое дали одному из корпоративных изданий сыновья Кампрада - Петер (Peter), Юнас (Jonas) и Маттиас (Mathias), а также на комментарии руководителя голландского подразделения IKEA Йорана Гросскопфа (Goeran Grosskopf). Последний заявил Expressen, что основатель торговой сети больше не будет принимать участие в управлении. По данным шведских СМИ, управление между собой разделили сыновья Кампрада. Петера (ему 48 лет) журналисты называли \"главным экономистом семьи\", Юнаса, которому скоро исполнится 46, считают креативным дизайнером продуктов IKEA, а младший - Маттиас (ему 43 года) - упоминался как \"предприниматель и главный создатель новых идей\". При этом до недавнего времени сыновья Ингвара Кампрада почти не появлялись в прессе, а их участие в управлении IKEA не афишировалось. Сам Гросскопф уже 17 сентября опроверг свои слова. Он заявил газете Svenska Dagbladet, что Кампрад остается работать в должности старшего консультанта наблюдательного совета компании Ingka Holding, которая управляет активами IKEA. В пресс-службе компании подтвердили, что Кампрад-старший сохранит за собой должность советника. Ингвар Кампрад основал IKEA в 1943 году, в настоящее время ему 86 лет. В июне швейцарский журнал Bilan оценивал состояние основателя IKEA в 37,5 миллиарда долларов. На тот момент основатель IKEA был самым богатым человеком Европы.',\n",
       "       \"Международная группа астрономов установила, что необычная форма джетов (струй газа) в туманности Fleming 1 объясняется наличием в ее центре пары обменивающихся веществом белых карликов. Работа ученых опубликована в журнале Science, кратко о необычной туманности можно прочитать на сайте Европейской южной обсерватории. Открытие удалось совершить благодаря наблюдениям, проведенным при помощи установленного в Чили Очень Большого Телескопа (VLT). Ученые обнаружили, что в центре туманности Fleming 1содержится не один, а два белых карлика, что встречается очень редко. Кроме того, оказалось, что звезды являются очень тесной парой - они вращаются вокруг общего центра массы с периодом всего в 1,2 суток. Их массы составляют чуть меньше массы Солнца. Моделирование, проведенное на базе этой информации, позволило объяснить необычную форму джетов в данной туманности. Они исходят из ее противоположных концов и имеют выраженный симметричный  S-образный изгиб. По словам авторов, джеты образуются в результате обмена веществом в двойной системе. Один из карликов засасывает вещество другого, образуя при этом диск аккреции и пару струй. Диск, однако, не неподвижен, а немного прецессирует - вращается подобно шатающейся юле. Из-за этого направление джетов постоянно меняется и газ закручивается в центрально-симметричную спираль. Туманности образуются в результате выброса внешней оболочки некоторых типов звезд, когда питающее их ядерное топливо подходит к концу. Активное ядро при этом обычно остается в виде белого карлика. Хотя звезды всех видов имеют одну и ту же шарообразную форму, образующиеся из них туманности бывают самыми причудливыми. Loading player...var sdfile = 'http://www.eso.org/public/archives/videos/medium_flash/eso1244c.flv';var imagefile = 'http://www.eso.org/public/archives/videos/videoframe/eso1244c.jpg';var flashsrc = 'http://www.eso.org/public/archives/djangoplicity/shadowbox3/libraries/mediaplayer5/player.swf';var sharelink = 'http://www.eso.org/public/videos/eso1244c/';var sharecode = '';var gaid = 'UA-1965004-1';var ipadfile = 'http://www.eso.org/public/archives/videos/medium_podcast/eso1244c.m4v';var mobilefile = 'http://www.eso.org/public/archives/videos/medium_podcast/eso1244c.m4v';var hdfile = 'http://www.eso.org/public/archives/videos/hd_and_apple/eso1244c.m4v';;\",\n",
       "       'Астрономы обнаружили, что шаровые скопления могут эволюционировать с очень разной скоростью, а о динамике этого процесса лучше всего говорит распределение в них особого класса звезд - голубых бродяг. Работа ученых опубликована в журнале Nature, а ее краткое содержание можно прочитать на сайте Европейской южной обсерватории. Шаровыми скоплениями называют кластеры, в которых звезды связаны тесными гравитационными взаимодействиями. В нашей галактике на сегодняшний день обнаружено около 150 таких скоплений. Шаровые скопления образовались очень давно, около 12-13 миллиардов лет назад, при том что вся история Вселенной насчитывает 13,7 миллиардов лет. Ученые обнаружили, что несмотря на общий древний возраст, эволюция в шаровых скоплениях может протекать с очень разной скоростью. Для этого авторы изучили распределение разных типов звезд в 21 шаровом скоплении. Изображения скоплений были получены \"Хабблом\" и 2,2 метровым телескопом MPG Европейской южной обсерватории. Оказалось, что в разных звездных кластерах наблюдается разное распределение голубых бродяг  - наиболее массивных звезд в скоплении. Считается, что такие светила образуются в результате обмена веществом или слияния более мелких звезд. Благодаря свежему ядерному топливу, такие звезды светятся ярче и хорошо видны в скоплении. Астрономы показали, что поскольку массивные голубые бродяги должны со временем скапливаться в центре кластера, их распределение говорит о скорости эволюции всего скопления. Например, если голубые гиганты равномерно распределены по всему шаровому скоплению, это говорит о эволюционной молодости звездного кластера. Ранее шаровое скопление с необычно большим количеством голубых гигантов обнаружили астрономы обсерватории Ла-Силья. Его возраст составил 10 миллиардов лет. Loading player...var sdfile = \\'http://www.eso.org/public/archives/videos/medium_flash/eso1252a.flv\\';var imagefile = \\'http://www.eso.org/public/archives/videos/videoframe/eso1252a.jpg\\';var flashsrc = \\'http://www.eso.org/public/archives/djangoplicity/shadowbox3/libraries/mediaplayer5/player.swf\\';var sharelink = \\'http://www.eso.org/public/russia/videos/eso1252a/\\';var sharecode = \\'\\';var gaid = \\'UA-1965004-1\\';var ipadfile = \\'http://www.eso.org/public/archives/videos/medium_podcast/eso1252a.m4v\\';var mobilefile = \\'http://www.eso.org/public/archives/videos/medium_podcast/eso1252a.m4v\\';var hdfile = \\'http://www.eso.org/public/archives/videos/hd_and_apple/eso1252a.m4v\\';;',\n",
       "       'Астрономы, работающие с телескопом \"Vista\" получили рекордно четкое изображение звездного кластера в созвездии Тукана. Изображение в высоком качестве и его описание опубликовано в на сайте Европейской южной обсерватории (ESO). Звездное скопление, носящее также название NGC 104, расположено в 15 тысячах световых лет от Земли в южной части небесной сферы. Оно является вторым по яркости звездным скоплением после Омеги Центавра (NGC 5139). Диаметр скопления достигает 120 световых лет, поэтому в южном полушарии его видно невооруженным глазом. Благодаря выраженному желтому оттенку на снимке хорошо видны красные гиганты. В составе кластера также присутствуют звезды основной последовательности, переменные звезды, миллисекундные пульсары, и необычно яркие для своего возраста звезды, так называемые голубые бродяги. Изучение структуры звездных кластеров имеет важное значение для понимания процессов эволюции галактик. Недавно астрономы научились определять возраст скоплений на основе расположения в них голубых бродяг, которые благодаря своему весу со временем должны мигрировать к центру кластера. Loading player...var sdfile = \\'http://www.eso.org/public/archives/videos/medium_flash/eso1302a.flv\\';var imagefile = \\'http://www.eso.org/public/archives/videos/videoframe/eso1302a.jpg\\';var flashsrc = \\'http://www.eso.org/public/archives/djangoplicity/shadowbox3/libraries/mediaplayer5/player.swf\\';var sharelink = \\'http://www.eso.org/public/russia/videos/eso1302a/\\';var sharecode = \\'\\';var gaid = \\'UA-1965004-1\\';var ipadfile = \\'http://www.eso.org/public/archives/videos/medium_podcast/eso1302a.m4v\\';var mobilefile = \\'http://www.eso.org/public/archives/videos/medium_podcast/eso1302a.m4v\\';var hdfile = \\'http://www.eso.org/public/archives/videos/hd_and_apple/eso1302a.m4v\\';;',\n",
       "       \"Европейские астрономы, работающие в обсерватории Ла-Силья, сфотографировали темное облако межзвездного газа Barnard 86 и сопровождающее его звездное скопление NGC 6520 в созвездии Стрельца. Оригинальную фотографию можно скачать (jpeg, 54,8 MБ) на сайте Европейской южной обсерватории, там же содержится ее краткое описание. Темное облако межзвездного газа Barnard 86 было впервые обнаружено Эдвардом Барнардом (Edward Emerson Barnard), который описал его как «чернильную кляксу на сияющем небе». Облако расположено в участке Млечного пути с очень высокой плотностью звезд, поэтому его границы довольно четко очерчены. Оно похоже на просвет среди этих звезд, однако на самом деле Barnard 86 расположено ближе к Земле (на расстоянии около 6 тысяч световых лет) и заслоняет их свет. Те несколько звезд, которые видны в его центре, не просвечивают сквозь облако, а находятся еще ближе к Земле. Слева от Barnard 86 можно видеть скопление NGC 6520. О сравнительно небольшом его возрасте - около 150 миллионов лет, - говорит голубоватый свет, характерный именно для молодых звезд. Подобные скопления живут несколько сотен миллионов лет, а затем распадаются на отдельные звезды. Темные облака наподобие Barnard 86 являются местом образования новых светил. Недавно подобное облако удалось заснять в созвездии Волка. В последнем случае звезды, происходящие из материала облака, были очень хорошо видны на изображении. Loading player...var sdfile = 'http://www.eso.org/public/archives/videos/medium_flash/eso1307a.flv';var imagefile = 'http://www.eso.org/public/archives/videos/videoframe/eso1307a.jpg';var flashsrc = 'http://www.eso.org/public/archives/djangoplicity/shadowbox3/libraries/mediaplayer5/player.swf';var sharelink = 'http://www.eso.org/public/russia/videos/eso1307a/';var sharecode = '';var gaid = 'UA-1965004-1';var ipadfile = 'http://www.eso.org/public/archives/videos/medium_podcast/eso1307a.m4v';var mobilefile = 'http://www.eso.org/public/archives/videos/medium_podcast/eso1307a.m4v';var hdfile = 'http://www.eso.org/public/archives/videos/hd_and_apple/eso1307a.m4v';;\",\n",
       "       'Основатель крупнейшей в мире сети по торговле мебелью IKEA Ингвар Кампрад (Ingvar Kamprad) стал вторым по величине акционером финской пивоваренной компании Olvi. Об этом сообщает финская телекомпания YLE. Фонд Кампрада The Family Kamprad купил 10,4 процента акций Olvi. Сумма сделки не сообщается, но рыночная стоимость указанного пакета оценивается в 47 миллионов евро. В середине прошлого года сообщалось, что IKEA начала выпускать пиво под собственной маркой, как темное, так и светлое. На тот момент купить его можно было только в Великобритании. В СМИ высказывались предположения, что светлое пиво для IKEA выпускает Olvi, но ни одна из компаний этого официально не подтвердила. Компания Olvi была основана в 1878 году. Она производит пиво и сидр, а также безалкогольные напитки: соки, минеральную воду и лимонады. Olvi занимает около 19 процентов рынка Финляндии. Заводы фирмы работают помимо Финляндии, также в Белоруссии, Литве и Латвии. Крупнейшим акционером Olvi является организация Olvi Foundation, которой принадлежит 16 процентов акций пивоваренной компании. Кампрад основал IKEA в 1943 году. По оценкам Bloomberg, состояние бизнесмена достигает 48,2 миллиарда долларов.',\n",
       "       'Российская сеть платежных терминалов Qiwi привлекла в ходе размещения своих акций на бирже Nasdaq 212,5 миллиона долларов, сообщает Reuters. Всего было размещено 12,5 миллиона ценных бумаг Qiwi по 17 долларов. Торги акциями Qiwi начались на площадке в США 3 мая. По итогам сессии стоимость ценных бумаг компании оказалась чуть выше цены размещения: около 17,1 доллара за акцию. Изначально в Qiwi установили диапазон размещения акций в 16-18 долларов. Таким образом, вся компания перед IPO оценивалась в 832-936 миллионов долларов. Как написала 6 мая газета «Коммерсантъ», основную часть ценных бумаг Qiwi скупили профильные американские инвестфонды. По словам  члена совета директоров Qiwi Андрея Муравьева, привлеченные средства будут инвестированы в российскую экономику, в интернет, в новые технологии. Продавцами акций Qiwi выступили акционеры компании, в частности, Mail.ru Group и Mitsui & Co. Первая в результате сократила свою долю в Qiwi до 15,5 процента акций, вторая — до 11,3 процента акций. В IPO не участвовал крупнейший акционер Qiwi —  Saldivar Investments Limited (ее доля составляет 25,4 процента), принадлежащая гендиректору Qiwi Сергею Солонину. Qiwi является крупнейшей на российском рынке системой моментальных платежей. Под управлением сети находится 169 тысяч платежных терминалов и киосков. По итогам прошлого года чистая прибыль группы выросла на 88 процентов до 808 миллионов рублей. В январе 2013 года Qiwi начала работать на рынке США.',\n",
       "       \"Астрономы, работающие с данными европейского телескопа APEX, засняли расположенные рядом с туманностью Ориона пылевые облака, которые напоминают «огненную ленту». Изображение в высоком разрешении и его описание опубликованы на сайте Европейского космического агентства. Снимки огненной ленты были получены камерой LABOCA в субмиллиметровом диапазоне излучения. Волны такой характерной длины испускают мелкие частицы космической пыли, имеющие температуру всего несколько десятков градусов выше абсолютного нуля (-273 градуса Цельсия). Облака пыли показаны на композитном изображении оранжевым цветом, остальные видимые объекты сняты в обычном оптическом диапазоне. Сложная структура «огненной ленты» объясняется взаимодействием двух факторов: гравитации, стремящейся сжать пылевые облака и звездного ветра, вызывающего образование изгибов и пузырей. В верхней части снимка можно рассмотреть яркую туманность Ориона. Эта наполненная межзвездным газом и пылью область является хорошо известным местом активного звездообразования. Недавно при помощи телескопа APEX удалось заснять пылевые облака, окружающие туманность Мессье 78 в Поясе Ориона. Ранее тот же инструмент позволил найти в межзвездном пространстве перекись водорода. Loading player...var sdfile = 'http://www.eso.org/public/archives/videos/medium_flash/eso1321a.flv';var imagefile = 'http://www.eso.org/public/archives/videos/videoframe/eso1321a.jpg';var flashsrc = 'http://www.eso.org/public/archives/djangoplicity/shadowbox3/libraries/mediaplayer5/player.swf';var sharelink = 'http://www.eso.org/public/videos/eso1321a/';var sharecode = '';var gaid = 'UA-1965004-1';var ipadfile = 'http://www.eso.org/public/archives/videos/medium_podcast/eso1321a.m4v';var mobilefile = 'http://www.eso.org/public/archives/videos/medium_podcast/eso1321a.m4v';var hdfile = 'http://www.eso.org/public/archives/videos/hd_and_apple/eso1321a.m4v';;\",\n",
       "       'Основатель крупнейшей сети по торговле мебелью IKEA Ингвар Кампрад (Ingvar Kamprad) уступил своему младшему сыну место в совете директоров компании Inter IKEA Group, которая владеет торговой маркой IKEA. Об этом 4 июня сообщает Reuters со ссылкой на заявление самого Кампрада. 44-летний Маттиас Кампрад станет председателем совета директоров компании Inter IKEA Group, которой принадлежит торговая марка IKEA и право на получение роялти со всех магазинов IKEA. Inter IKEA Group владеет 302 из 343 магазинов IKEA в мире. Маттиас Кампрад также входит в состав правления Interogo Foundation, которая владеет IKEA Group, и в разное время занимал ряд должностей подконтрольных семье Кампрад компаниях. Два других сына основателя IKEA, Юнас и Петер, тоже являются членами правления входящих в состав IKEA групп. В сентябре 2012 года сообщалось, что Ингвар Кампрад ушел из бизнеса и передал управление компанией своим трем сыновьям. Однако в компании опровергли эту информацию и заявили, что Кампрад останется работать в должности старшего консультанта наблюдательного совета компании Ingka Holding, которая управляет активами IKEA. Ингвар Кампрад основал IKEA в 1943 году, когда ему было 17 лет (сейчас ему 87 лет). В 1987 году он ушел с должности гендиректора фирмы (в настоящее время компанию возглавляет Микаель Ольссон). Согласно данным Bloomberg, состояние Кампрада достигает 48,2 миллиарда долларов.',\n",
       "       \"Астрономы, работающие с данными новой обсерватории ALMA, впервые разглядели вокруг молодой звезды «пылевую ловушку», в которой формируются кометы и зародыши будущих планет. Статья с описанием исследования опубликована в журнале Science, а ее краткое содержание приводит ScienceNow и сайт Европейской южной обсерватории. Наблюдения за системой Oph-IRS 48, расположенной на расстоянии 400 световых лет от Земли, проводились в миллиметровом диапазоне при помощи только половины из телескопов обсерватории ALMA. Тем не менее, разрешение изображения позволило разглядеть вокруг звезды распределение частиц пыли разного размера. Ученые обнаружили, что относительно крупные частицы размером около миллиметра распределены в протопланетном диске крайне неравномерно. «Вместо кольцеобразной структуры, которую мы ожидали увидеть, мы обнаружили форму, в точности похожую на орех кешью» — пояснил один из авторов работы, аспирант Лейденской обсерватории Нинке ван дер Марель (Nienke van der Marel). По словам ученых, обнаруженная область представляет собой ловушку, где частицы космической пыли способны слипаться друг с другом, вырастая до размеров около километра. В других областях протопланетного диска рост сгустков ограничен их постоянным взаимным столкновением. Авторы поясняют, что в пылевой ловушке системы Oph-IRS 48 наиболее вероятно образование комет, а не полноценных планет. Тем не менее, ученые рассчитывают увидеть точно такие же ловушки вокруг других звезд на расстоянии, более подходящем для формирования крупных небесных тел. Недавно другой группе астрономов удалось наблюдать при помощи телескопа VLT формирование гигантской планеты в созвездии Мухи. Loading player...var sdfile = 'http://www.eso.org/public/archives/videos/medium_flash/eso1325b.flv';var imagefile = 'http://www.eso.org/public/archives/videos/videoframe/eso1325b.jpg';var flashsrc = 'http://www.eso.org/public/archives/djangoplicity/shadowbox3/libraries/mediaplayer5/player.swf';var sharelink = 'http://www.eso.org/public/videos/eso1325b/';var sharecode = '';var gaid = 'UA-1965004-1';var ipadfile = 'http://www.eso.org/public/archives/videos/medium_podcast/eso1325b.m4v';var mobilefile = 'http://www.eso.org/public/archives/videos/medium_podcast/eso1325b.m4v';var hdfile = 'http://www.eso.org/public/archives/videos/hd_and_apple/eso1325b.m4v';;\",\n",
       "       \"Астрофизики получили наглядное подтверждение тому, что черная дыра в центре нашей галактики поглощает облака газа. Наблюдения, проведенные в Европейской южной обсерватории с 2004 по 2013 год показали, что газовое облако подошло ближе к черной дыре и оказалось сильно вытянуто за счет гравитации. Подробности приведены на официальном сайте обсерватории с отсылкой к еще не опубликованной статье ученых в Astrophysical Journal. Ученые наблюдали газовое облако, которое перемещалось по орбите вокруг черной дыры и при этом вытянулось до 160 миллиардов километров. Измерения показали, что расстояние от него до черной дыры составляет всего 25 миллиардов километров. Это в пять раз больше радиуса орбиты Нептуна и, как говорят изучавшие объект ученые, такая дистанция может считаться крайне маленькой тогда, когда речь идет о сверхмассивных черных дырах в центре галактик. Исследователям также удалось определить скорость, с которой движется газ. Она составила около десяти миллионов километров в час или около одного процента от скорости света. Скорость движения Земли по орбите, для сравнения, немногим больше ста тысяч километров в час в инерциальной системе отсчета, связанной с центром масс системы Солнца-Земля. Под действием гравитационного поля облако вытянулось в длинный хвост, наблюдать который оказалось сложнее из-за малого диаметра. Часть вещества облака была буквально вырвана черной дырой в момент прохождения через перицентр, самую близкую к черной дыре точку орбиты. Loading player...var sdfile = 'http://www.eso.org/public/archives/videos/medium_flash/eso1332a.flv';var imagefile = 'http://www.eso.org/public/archives/videos/videoframe/eso1332a.jpg';var flashsrc = 'http://www.eso.org/public/archives/djangoplicity/shadowbox3/libraries/mediaplayer5/player.swf';var sharelink = 'http://www.eso.org/public/videos/eso1332a/';var sharecode = '';var gaid = 'UA-1965004-1';var ipadfile = 'http://www.eso.org/public/archives/videos/medium_podcast/eso1332a.m4v';var mobilefile = 'http://www.eso.org/public/archives/videos/medium_podcast/eso1332a.m4v';var hdfile = 'http://www.eso.org/public/archives/videos/hd_and_apple/eso1332a.m4v';; Чтобы получить снимки вытянутого газового хвоста, астрономы использовали Очень Большой Телескоп (VLT) и съемку с выдержкой в 20 часов. При этом использованный для наблюдений спектрометр также получил спектр каждого формирующего снимок пикселя. Информация о спектре помогла узнать о скорости газа за счет эффекта Допплера: спектральные линии движущихся источников излучения смещаются на величину, которая зависит от их скорости.\",\n",
       "       \"Астрономы, работающие в обсерватории APEX в чилийской пустыне Атакама, получили первое тестовое изображение с новой камеры ArTeMiS. На нем видны пылевые облака туманности «Кошачья лапа» в созвездии Скорпиона. Изображение и его описание опубликованы на сайте Европейского космического агентства. Новое изображение «Кошачьей лапы» (NGC 6334) обладает рекордным разрешением. Получить его удалось благодаря установке на телескоп новой камеры ArTeMiS, которая оснащена современной ПЗС-матрицей. Как указывают астрономы, сделать снимок туманности удалось только сейчас из-за сильной непогоды — в процессе обновления оборудования здание, где расположен пульт управления телескопом, завалило снегом. Затем съемкам мешала высокая влажность, так как водяной пар сильно поглощает в субмиллиметровой области (именно из-за этого телескоп APEX был установлен в пустыне). Сфотографированная туманность удалена от Земли на расстояние 5500 световых лет. Она является зоной, где активно образуются звезды. Некоторые из них достигают двадцатикратной массы Солнца. Телескоп APEX оснащен 12-метровым составным зеркалом и предназначен для наблюдений в миллиметровой и субмиллиметровой области электромагнитного спектра. Такие наблюдения обычно применяются для исследований теплового излучения межзвездной пыли и газа в космических туманностях. Ранее телескопу удалось снять «огненную ленту» в туманности Ориона — пылевые облака необычной формы. Loading player...var sdfile = 'http://www.eso.org/public/archives/videos/medium_flash/eso1341a.flv';var imagefile = 'http://www.eso.org/public/archives/videos/videoframe/eso1341a.jpg';var flashsrc = 'http://www.eso.org/public/archives/djangoplicity/shadowbox3/libraries/mediaplayer5/player.swf';var sharelink = 'http://www.eso.org/public/russia/videos/eso1341a/';var sharecode = '';var gaid = 'UA-1965004-1';var ipadfile = 'http://www.eso.org/public/archives/videos/medium_podcast/eso1341a.m4v';var mobilefile = 'http://www.eso.org/public/archives/videos/medium_podcast/eso1341a.m4v';var hdfile = 'http://www.eso.org/public/archives/videos/hd_and_apple/eso1341a.m4v';;\",\n",
       "       'Полиция не усмотрела в стрельбе у здания Конгресса США связи с терроризмом. Как сообщает Associated Press, власти назвали случившееся единичным инцидентом. Как ранее сообщалось, у Капитолия была убита вооруженная женщина. Туда она приехала на машине, после того как попыталась протаранить ворота Белого дома. Вместе с тем поступала информация, что в результате инцидента был задержан один подозреваемый. Официальных данных о личности и состоянии задержанного не поступало. В полиции также подтвердили информацию о том, что в результате нападения был ранен сотрудник правоохранительных органов. При этом американские СМИ, ссылаясь на очевидцев происшествия и анонимные источники в правоохранительных органах, приводят другие версии произошедшего. Так, телеканал CNN сообщает, что погоню за автомашиной полиция начала после того, как находившаяся за рулем автомобиля женщина вступила в спор с сотрудниками правоохранительных органов, которые дежурили у заграждения в квартале от Белого дома. Из сообщения CNN следует, что женщина, управлявшая автомобилем, вооружена не была. О том, что у подозреваемой не было при себе оружия сообщает и телеканал NBC, также ссылающийся на собственные источники. При этом в первых сообщениях NBC о произошедшем говорилось, что женщина была вооружена и стреляла по полицейским. Кроме того, по данным CNN, в результате происшествия пострадали два человека, в том числе сотрудник полиции, не уточняя при этом никаких подробностей о втором пострадавшем. NBC сообщает об одном пострадавшем — сотруднике полиции. Погоня в центре Вашингтона произошла в четверг, 3 октября, около 14:15 по местному времени (22:15 по Москве). После того, как у Капитолия началась стрельба, здание было закрыто для входа и выхода из соображений безопасности, заседания Сената и Палаты представителей были прерваны. Полиция сняла оцепление примерно через полчаса. var nbcLP={};nbcLP.aRandomNumber=Math.floor(Math.random()*10000);nbcLP.currentPageLoc=encodeURIComponent(window.location.href);nbcLP.currentSiteLoc=encodeURIComponent(window.location.host);nbcLP.defaultWidth=652;nbcLP.defaultHeight=367;nbcLP.cmsID=\"226364601\";nbcLP.vidPid=\"rwaMacPSVhIb\";nbcLP.vidSec=\"TK\";nbcLP.vidSubSec=\"TK\";nbcLP.vidFrame=document.getElementById(\"nbcLP226364601\");nbcLP.vidFrame.style.border=\"none\";nbcLP.vidFrame.width=nbcLP.defaultWidth;nbcLP.vidFrame.height=nbcLP.defaultHeight;nbcLP.vidFrame.scrolling=\"no\";nbcLP.vidFrame.src=\"http://www.nbcwashington.com/templates/nbc_partner_player?cmsID=\"+nbcLP.cmsID+\"&videoID=\"+nbcLP.vidPid+\"&width=\"+nbcLP.defaultWidth+\"&height=\"+nbcLP.defaultHeight+\"&sec=\"+nbcLP.vidSec+\"&subsec=\"+nbcLP.vidSubSec+\"&turl=\"+nbcLP.currentSiteLoc+\"&ourl=\"+nbcLP.currentPageLoc+\"&rand=\"+nbcLP.aRandomNumber;',\n",
       "       'Верховный суд Италии запретил крупнейшей пивоваренной компании мира Anheuser-Busch InBev (ABI) продавать в стране пиво торговой марки Budweiser и разрешил чешской госкомпании Budějovický Budvar использовать свой бренд Budweiser Budwar. Об этом сообщается в пресс-релизе Budějovický Budvar. По данным чехов, суд признал использование бренда компанией ABI введением в заблуждение и аннулировал регистрацию товарного знака. Гендиректор Budějovický Budvar Иржи Бочек (Jiří Boček) назвал проигрыш ABI в споре за бренд Budweiser крупнейшим поражением за последние 100 лет. Юристы чешской госкомпании надеются, что решение суда станет прецедентом, и использование исторических названий в коммерческих целях будет запрещено. Budějovický Budvar рассчитывает, что решение суда позволит компании в самом скором времени существенно нарастить продажи чешского пива в Италии. Budějovický Budvar оспаривает право на бренд Budweiser несколько десятков лет. В Италии инициатором судебного спора стала ABI, которая в начале 2000-х годов подала иски к чешской компании и ее партнерам, а также попросила местные власти запретить последним использовать бренд Budweiser. В 2002 году в связи с претензиями ABI чехам пришлось продавать свое пиво под маркой Czechvar.',\n",
       "       \"Астрономы, работающие с данными телескопа «Хаббл», рассмотрели в туманности, окружающей переменную звезду RS Кормы, световое эхо. Изображение звезды и результат его анализа опубликованы на сайте космической обсерватории. Световым эхом называют явление, подобное обычному акустическому эху. Волны (в данном случае электромагнитные) одной вспышки приходят к наблюдателю в разное время в результате отражения. Из-за огромной скорости света электромагнитный аналог эха наблюдается только в астрономических масштабах. Звезда RS Кормы, ставшая предметом исследования, расположена в 6500 световых лет от Земли. Ее масса превосходит массу Солнца всего в десять раз, но пиковая светимость в 15 тысяч раз больше, чем соответствующий параметр нашей звезды. Переменная звезда относится к классу цефеид, ее светимость циклически увеличивается и уменьшается в пять раз с периодом около 40 дней. Loading player...var sdfile = 'http://www.spacetelescope.org/static/archives/videos/medium_flash/heic1323a.flv';var imagefile = 'http://www.spacetelescope.org/static/archives/videos/videoframe/heic1323a.jpg';var flashsrc = 'http://www.spacetelescope.org/static/djangoplicity/shadowbox3/libraries/mediaplayer5/player.swf';var sharelink = 'http://www.spacetelescope.org/videos/heic1323a/';var sharecode = '';var gaid = 'UA-2368492-6';var ipadfile = 'http://www.spacetelescope.org/static/archives/videos/medium_podcast/heic1323a.m4v';var mobilefile = 'http://www.spacetelescope.org/static/archives/videos/medium_podcast/heic1323a.m4v';var hdfile = 'http://www.spacetelescope.org/static/archives/videos/hd_and_apple/heic1323a.m4v';; Наблюдения за звездой при помощи «Хаббла» проводились в течение пяти недель, что позволило обнаружить в пульсации переменной звезды эхо света, который отражался от окружающей звезду туманности. Эффект можно наблюдать на видео, снятом на основе статических изображений «Хаббла». Внешне он напоминает очень быстрое движение волн газа в туманности. Это, однако, всего лишь оптическая иллюзия, возникающая из-за отражения света от вещества на разной глубине в туманности. Наблюдения светового эха интересно не только сами по себе, но и позволяют ученым рассчитать расстояние от Земли до RS Кормы с рекордной точностью. Ошибка этого измерения составила не более одного процента.\",\n",
       "       \"Астрономы Европейской южной обсерватории в Чили получили с помощью недавно построенного Обзорного телескопа изображение туманности Лагуна. Фотография в высоком разрешении выложена на сайте обсерватории, там же можно ознакомиться с методом съемки. Гигантская туманность с диаметром около 100 световых лет расположена в созвездии Стрельца. Она удалена от Земли на пять тысяч световых лет. Изображение было получено в рамках обзора южного неба VPHAS+, одного из нескольких проектов съемки, которые проводит Европейская южная обсерватория. Часть их них, в том числе и VPHAS+, проводятся в видимом свете, другие — в инфракрасном диапазоне. На изображении туманности, которая уже неоднократно попадала в поле зрения телескопов, можно рассмотреть области активного звездообразования и звездные кластеры. Также на нем видны темные глобулы космической пыли. Туманность Лагуна, которая также имеет название Мессье 8, была открыта сицилийским астрономом Джованни Годиерна не позднее 1654 года. Это одна из немногих туманностей, которые можно рассмотреть на ночном небе невооруженным глазом. Одна из внутренних частей Лагуны называется туманностью Песочных часов, которые не следует путать с Песочными часами в созвездии Мухи. Loading player...var sdfile = 'http://www.eso.org/public/archives/videos/medium_flash/eso1403a.flv';var imagefile = 'http://www.eso.org/public/archives/videos/videoframe/eso1403a.jpg';var flashsrc = 'http://www.eso.org/public/archives/djangoplicity/shadowbox3/libraries/mediaplayer5/player.swf';var sharelink = 'http://www.eso.org/public/videos/eso1403a/';var sharecode = '';var gaid = 'UA-1965004-1';var ipadfile = 'http://www.eso.org/public/archives/videos/medium_podcast/eso1403a.m4v';var mobilefile = 'http://www.eso.org/public/archives/videos/medium_podcast/eso1403a.m4v';var hdfile = 'http://www.eso.org/public/archives/videos/hd_and_apple/eso1403a.m4v';;\",\n",
       "       'Интерполу удалось установить личность второго мужчины, который попал на борт исчезнувшего малайзийского самолета с помощью чужого паспорта. Как сообщает Associated Press, им оказался 29-летний иранец Делавар Сейед-Мохаммадреза (Delavar Seyedmohammaderza). Личность первого пассажира с краденым паспортом ранее раскрыла малайзийская полиция, по данным которой речь идет о 19-летнем гражданине Ирана Пурие Нуре Мохаммаде Мердаде (Pouria Nour Mohammad Mehrdad). В Интерполе подтвердили эти сведения, хотя привели несколько иное написание имени: Пури Нурмохаммади (Pouri Nourmohammadi). Как рассказал генеральный секретарь международного полицейского ведомства Рональд Ноубл (Ronald Noble), в Малайзию оба иранца прибыли со своими собственными паспортами, которые позже обменяли на краденые документы. По словам Ноубла, в свете новой информации о подозреваемых у него остается все меньше оснований считать, что самолет пропал в результате теракта. Тем временем информацию о личностях подозрительных пассажиров прокомментировали в Иране, передает Agence France-Presse. Пресс-секретарь министерства иностранных дел заверила, что власти страны следят за развитием событий, и пообещала, что как только об обладателях краденых паспортов станет что-либо известно, власти Ирана передадут всю информацию следствию. Как стало известно в ходе расследования, иранцы поднялись на борт самолета под именами итальянца Луиджи Маральди и австрийца Христиана Коцела. Прибыв в Пекин, оба должны были улететь в Амстердам, а оттуда в Копенгаген и Франкфурт. В частности, оказалось, что младшего иранца во Франкфурте ждала его мать. Предполагается, что Нурмохаммади собирался просить политического убежища в Германии. Пассажирский лайнер Boeing 777-200ER, принадлежащий авиакомпании Malaysia Airlines, пропал в ночь на 8 марта во время перелета из Куала-Лумпура в Пекин. На борту были 239 человек, в том числе 12 членов экипажа. Судьба самолета до сих пор неизвестна: масштабная поисковая операция, организованная в Южно-Китайском море и Малаккском проливе, результатов не принесла.',\n",
       "       'В Санкт-Петербурге неизвестные украли телефон из сумки женщины, но оставили на месте преступления собственный мобильник. Об этом в среду, 10 августа, сообщает «Фонтанка». Кража была совершена 7 августа в торговом центре «Академпарк» на Гражданском проспекте. Двое мужчин вытащили смартфон из сумки посетительницы ТЦ. При этом один из них забыл свой телефон на столике рядом. Полиция ведет розыск подозреваемых. Издание приводит видеоvar w=window,d=document,e;w._fpes||(w._fpes=[],w.addEventListener(\"load\",function(){var s=d.createElement(\"script\");s.src=\"//embed.flowplayer.org/6.0.5/embed.min.js\",d.body.appendChild(s)})),e=[].slice.call(d.getElementsByTagName(\"script\"),-1)[0].parentNode,w._fpes.push({e:e,l:\"//fontanka.ru/www-include/js/flowplayer/flowplayer.min.js\",c:{\"ratio\":0.5319148936170213,\"rtmp\":0,\"live\":false,\"origin\":\"http://www.fontanka.ru/2016/08/10/066/\",\"analytics\":\"UA-28412007-1\",\"key\":\"$100456818706467, $986741018374498\",\"swf\":\"/www-include/js/flowplayer/flowplayer.swf\",\"swfHls\":\"/www-include/js/flowplayer/flowplayerhls.swf\",\"embed\":{\"library\":\"//fontanka.ru/www-include/js/flowplayer/flowplayer.min.js\",\"script\":\"//fontanka.ru/www-include/js/flowplayer/embed.min.js\",\"skin\":\"//fontanka.ru/www-include/js/flowplayer/skin/minimalist.css\",\"swf\":\"//fontanka.ru/www-include/js/flowplayer/flowplayer.swf\",\"swfHls\":\"//fontanka.ru/www-include/js/flowplayer/flowplayerhls.swf\"},\"adaptiveRatio\":false,\"logo\":\"http://www.fontanka.ru/pic/decor/book_logo.png\",\"clip\":{\"sources\":[{\"type\":\"video/mp4\",\"src\":\"http://www.fontanka.ru/mm/items/2016/8/10/0068/krazha.mp4\"},{\"type\":\"video/flash\",\"src\":\"/mm/items/2016/8/10/0068/krazha.mp4\"}]}}}); с камер наружного наблюдения, на котором зафиксирован момент кражи. В апреле этого года в Москве двое мужчин ограбили подвозившего их таксиста. Они отобрали у водителя деньги, мобильные телефоны, планшет и куртку, но забыли в машине сумку со своими паспортами. Подозреваемые — уроженцы Средней Азии — были задержаны полицией в тот же день.',\n",
       "       'Лорд Ивар Маунтбаттен (Ivar Mountbatten), двоюродный брат королевы Великобритании Елизаветы II, признался, что является бисексуалом. Это первый случай, когда член британской королевской семьи публично говорит о своей нетрадиционной сексуальной ориентации, пишет в воскресенье, 18 сентября, Daily Mail. В 2011 году Маунтбаттен развелся с Пенелопой Томпсон. Пара состояла в браке с 1994 года, у них родились три дочери. По словам Маунтбаттена, он узнал о своей нетрадиционной ориентации в подростковые годы, но не хотел «идти по этому пути», опасаясь последствий. «Я никогда не думал, что женюсь, потому что не хотел быть нечестным. Пенни знала об этом до того, как мы поженились. Я сказал ей, что я бисексуален, что меня влекло к обоим полам. Она была понимающей, и я всегда буду благодарен ей», — рассказал он. По его мнению, супруга, вероятно, надеялась его изменить, но в итоге поняла тщетность своих попыток. Сейчас 53-летний лорд встречается с директором клининговой авиационной компании Джеймсом Койлом (James Coyle). Они познакомились в Швейцарии в марте 2015 года.',\n",
       "       'Калифорнийская компания Montaag представила дизайнерскую эспрессо-машину AnZa, корпус которой выполнен из бетона. Об этом во вторник, 25 июля, сообщает Highsnobiety. Рукоятки кофемашины сделаны в виде старомодных керамических вентилей водопроводного крана, а управляющие кнопки заменены тумблерами-переключателями, как у агрегатов середины XX века. Аппарат оборудован интеграционной системой IOT для связи с другими домашними устройствами, например сетью «умный дом». Ожидается, что в широкой продаже устройство появится в 2018 году. «Дизайн эспрессо-машин изменился в последнее время на удивление мало, особенно учитывая, как быстро меняется архитектура интерьера и какое важное место этот аппарат занимает на современной кухне», — прокомментировал Пер Ивар Селвааг (Per Ivar Selvaag), глава компании Montaag. Montaag — дизайнерская студия, офисы которой открыты в Беркли (Калифорния, США), Осло и Ставангере (Норвегия). Летом 2017 года автомобильная компания Renault выпустила коллекцию чайников в честь гонки «Формула-1». Дизайн посуды был навеян очертаниями автомобиля RS01 1977 года, который дебютировал на соревнованиях «Формулы-1». Британский гонщик и член команды Renault тогда прозвал ее «желтым чайником». Посуда выполнена в желтом цвете с черными полосами.',\n",
       "       \"Международная группа ученых выяснила, что возбудитель сибирской язвы — бактерия Bacillus anthracis — может привести к исчезновению шимпанзе в Таи — национальном парке Кот-д'Ивуара. По словам исследователей, заболевание не характерно для тропических дождевых лесов. Статья специалистов опубликована в журнале Nature, кратко о ней рассказывается в пресс-релизе на сайте EurekAlert!. Сибирская язва распространена в засушливых регионах Африки, вызывая гибель людей и скота. Однако учеными был обнаружен ранее неизвестный штамм бактерии (Bacillus cereus biovar anthracis), который стал причиной гибели нескольких шимпанзе в Таи. Эти же микробы привели к смерти горилл, слонов и шимпанзе в Камеруне и Центральноафриканской Республике. Ученые проанализировали распространение патогена в Кот-д'Ивуаре и его влияние на дикие популяции животных. Они изучили образцы костей и тканей погибших млекопитающих, которые были собраны за последние 28 лет. Они также исследовали содержимое желудка падальных мух, которые могли контактировать с тушами, зараженными сибирской язвой. Это сделало возможным определить места в национальном парке и виды, в которых происходит циркуляция возбудителя. Оказалось, что почти 40 процентов смертей животных в национальном парке связаны с сибирской язвой. Патоген был обнаружен у нескольких видов обезьян, дукеров, мангустов и дикобразов. Сильнее всего пострадали шимпанзе. 31 из 55 умерших особей погибли из-за B.anthracis. По словам исследователей, чтобы спасти популяцию приматов, нужно выяснить причины распространения смертоносной бактерии. Поскольку шимпанзе и люди генетически близки друг к другу, существует риск, что новый штамм может передаваться и человеку.\",\n",
       "       'Испанка Анхела Понсе станет первым трансгендером, принявшим участие в конкурсе «Мисс Вселенная». Об этом сообщает Newsweek. Llevar el nombre y los colores de España ante el Universo es mi gran sueño. Mi objetivo: ser portavoz de un mensaje de inclusión, respeto y diversidad no solo para la comunidad LGBTQ+ sino para el mundo entero.\\n.\\n.\\n#soybemiss \\n#somosmasdeloqueves \\n#missuniversespain2018 \\n@orgbemiss Фото опубликовано @angelaponceofficial 26-летняя Понсе в минувшие выходные завоевала титул «Мисс Испания-2018», опередив 22 соперницы, что дает ей право представлять страну на мировом конкурсе в Таиланде в декабре. В Instagram она написала, что считает своей задачей стать «голосом инклюзии, уважения и разнообразия не только для сообщества LGBTQ +, но и для всего мира». Конкурсантам-трансгендерам разрешили участвовать в конкурсе «Мисс Вселенная» шесть лет назад. В середине апреля 2012 года оргкомитет конкурса внес в устав поправку, разрешающую бывшим мужчинам бороться за победу вместе с обычными женщинами. Первым участником стала Дженна Талакова. В мае 2012 года она выступила в отборочном турнире за право представлять Канаду на конкурсе «Мисс Вселенная», но в финал не попала. Для этого нужно было остаться в первой пятерке, а Дженна финишировала в топе-12.',\n",
       "       'Американский рэпер Канье Уэст пришел на баскетбольный матч в куртке, выпущенной дизайнером Гошей Рубчинским и скейтером Толей Титаевым. Фотография Уэста появилась в соцсети Instagram в среду, 31 октября. На снимке Канье Уэст пожимает руку бизнесмену Лавару Боллу (Lavar Ball). На нем — голубая джинсовка из совместной коллекции российского бренда «Рассвет» и американского Carhartt. Также фотографией с рэпером поделился Толя Титаев в Instagram stories с подписью Yes, Kanye! («Да, Канье!») В сентябре Канье Уэст представил рекламную кампанию своих новых кроссовок Yeezy Boost 350 V2 Cream. Среди фотографий появился пост со словами «мы любим» на 11 языках мира. Самой первой на изображении оказалась фраза на русском языке.'],\n",
       "      dtype=object)"
      ]
     },
     "execution_count": 64,
     "metadata": {},
     "output_type": "execute_result"
    }
   ],
   "source": [
    "df_news[df_news[\"text\"].str.contains(\"var \")].text.values"
   ]
  },
  {
   "cell_type": "code",
   "execution_count": 65,
   "metadata": {},
   "outputs": [
    {
     "data": {
      "text/plain": [
       "array(['Ученые из университета Калгари в Канаде выяснили, что в нескольких сотнях километров над поверхностью Земли образуются «реки» газа, температура которого достигает трех тысяч градусов Цельсия. Это показал один из спутников Swarm, который пролетел сквозь «Стив» — недавно открытую разновидность полярного сияния. Об этом сообщается на сайте Phys.org. «Стив» впервые был замечен добровольцами из организации Alberta Aurora Chasers, которые занимаются наблюдениями полярных сияний. Они обнаружили относительно узкие ленты зеленого и фиолетового света, которые отличались от других известных разновидностей Aurora Borealis. Это атмосферное явление может простираться на сотни или тысячи километров, а ширина «ленты» достигает 25-30 километров. Last fall i captured an image of an auroral phenomenon that was largely unexplained. Until now...... I was told many versions of what it was but until today i had yet to learn the truth. \\nI was contacted by a U of Calgary scientist who has been researching aurora and with the help of night sky photogs have definitively explained what this is.\\n\\nHere is a link to the keynote. His starts at 1:08:00. Link in my bio 🌌\\n📷\\n🌌\\n📷\\n🌌\\n📷\\n🌌\\n📷\\n🌌\\n📷\\n🌌\\n📷\\n\\n#explorekamloops #explorebc #explorecanada #earthfocus #tourcanada #imagesofcanada #kamloopsbcnow #canadiancreatives  #photosofnature #sunsetphotos #auroraborealis #creativeexploration #ig_landscapes #landscapephotography #aurora #getoutdoors #takeahike #pacificnorthwest #picoftheday #bucketlist #wanderthroughlife #amazingplaces #planetearth #ilivehere #igerscanada #ig_canada #naturelovers #canadagram #canada150 #northernlights Фото опубликовано @davemarkelphoto Для исследования явления ученые использовали спутники Swarm, которые предназначены для изучения магнитного поля Земли. Результаты наблюдения показали, что внутри «Стива» температура резко повышается до трех тысяч градусов по Цельсию. Скорость потока достигает шести километров в секунду. Ученые пока точно не знают, что именно вызывает это явление, однако они работают над статьей, где будут описаны возможные механизмы возникновения нового типа полярного сияния.'],\n",
       "      dtype=object)"
      ]
     },
     "execution_count": 65,
     "metadata": {},
     "output_type": "execute_result"
    }
   ],
   "source": [
    "df_news[df_news[\"text\"].str.contains(\"Link in my bio\")].text.values"
   ]
  },
  {
   "cell_type": "code",
   "execution_count": 68,
   "metadata": {},
   "outputs": [],
   "source": [
    "df_strange = df_news[\n",
    "    df_news[\"text\"].str.count(\"e\")\n",
    "    + df_news[\"text\"].str.count(\"t\")\n",
    "    + df_news[\"text\"].str.count(\"a\")\n",
    "    + df_news[\"text\"].str.count(\"o\")\n",
    "    > 100\n",
    "]"
   ]
  },
  {
   "cell_type": "code",
   "execution_count": 73,
   "metadata": {},
   "outputs": [
    {
     "data": {
      "text/plain": [
       "'Минувшей ночью состоялось ежегодное вручение музыкальных призов от MTV. Так выглядит список награжденных. Самое лучшее VIDEO: Lauryn Hill, \"Doo Wop (That Thing)\" Лучшее мужское VIDEO: Will Smith, \"Miami\" Лучшее женское VIDEO: Lauryn Hill, \"Doo Wop (That Thing)\"Лучший клип группы: TLC, \"No Scrubs\" Лучшее RAP-VIDEO: Jay-Z featuring Ja & Amil-lion, \"Can I Get A...\" Лучшее HIP-HOP VIDEO: Beastie Boys, \"Intergalactic\" Лучшая режиссура: Fatboy Slim, \"Praise You\" Лучшее танцевальное VIDEO: Ricky Martin, \"Livin\\' La Vida Loca\" Лучшее rock-VIDEO: Korn, \"Freak on a Leash\"Лучшее pop-VIDEO: Ricky Martin, \"Livin\\' La Vida Loca\" Открытие года: Eminem, \"My Name Is\" Лучшее VIDEO из фильма: Madonna, \"Beautiful Stranger\" Прорыв в области VIDEO: Fatboy Slim, \"Praise You\" Приз зрительских симпатий: Backstreet Boys, \"I Want it That Way\" Лучшая хореография: Fatboy Slim, \"Praise You\" Лучшие спецэффекты: Garbage, \"Special\" Лучшая художественная режиссура: Lauryn Hill, \"That Thing\" Лучший монтаж : Korn, \"Freak on a Leash\" За кинематографичность: Marilyn Manson, \"The Dope Show\"'"
      ]
     },
     "execution_count": 73,
     "metadata": {},
     "output_type": "execute_result"
    }
   ],
   "source": [
    "df_strange[\"text\"].iloc[0]"
   ]
  },
  {
   "cell_type": "code",
   "execution_count": 32,
   "metadata": {},
   "outputs": [],
   "source": [
    "# sdf_news[[\"title\", \"text\", \"topic\", \"date\"]].to_csv(\"data/processed_news.csv\")"
   ]
  }
 ],
 "metadata": {
  "kernelspec": {
   "display_name": "Python 3",
   "language": "python",
   "name": "python3"
  },
  "language_info": {
   "codemirror_mode": {
    "name": "ipython",
    "version": 3
   },
   "file_extension": ".py",
   "mimetype": "text/x-python",
   "name": "python",
   "nbconvert_exporter": "python",
   "pygments_lexer": "ipython3",
   "version": "3.11.6"
  }
 },
 "nbformat": 4,
 "nbformat_minor": 2
}
